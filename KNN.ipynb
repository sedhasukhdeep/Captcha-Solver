{
 "cells": [
  {
   "cell_type": "code",
   "execution_count": 55,
   "metadata": {},
   "outputs": [],
   "source": [
    "import sys\n",
    "from PIL import Image\n",
    "import numpy as np\n",
    "from sklearn.neighbors import KNeighborsClassifier\n",
    "from sklearn import preprocessing\n",
    "from sklearn import utils\n",
    "lab_enc = preprocessing.LabelEncoder()\n",
    "\n",
    "\n",
    "def load_dataset():\n",
    "    X = []\n",
    "    y = []\n",
    "\n",
    "    for i in range(60):\n",
    "        path = \"./dataset/%d%d.png\" % (i / 6, i % 6 + 1)\n",
    "        pix = np.array(Image.open(path).convert(\"L\"))\n",
    "        X.append(pix.reshape(8*20))\n",
    "        y.append(i/6)\n",
    "    return np.array(X), np.array(y)\n",
    "\n",
    "\n",
    "def split_letters(path):\n",
    "    pix = np.array(Image.open(path).convert(\"L\"))\n",
    "    # threshold image\n",
    "    pix = (pix > 100) * 255\n",
    "\n",
    "    col_ranges = [\n",
    "        [5, 5 + 8],\n",
    "        [14, 14 + 8],\n",
    "        [23, 23 + 8],\n",
    "        [32, 32 + 8]\n",
    "    ]\n",
    "    letters = []\n",
    "    for col_range in col_ranges:\n",
    "        letter = pix[:, col_range[0]: col_range[1]]\n",
    "        letters.append(letter.reshape(8*20))\n",
    "    return letters\n",
    "\n",
    "\n"
   ]
  },
  {
   "cell_type": "code",
   "execution_count": 57,
   "metadata": {},
   "outputs": [
    {
     "data": {
      "text/plain": [
       "'6759'"
      ]
     },
     "execution_count": 57,
     "metadata": {},
     "output_type": "execute_result"
    }
   ],
   "source": [
    "letters = split_letters('test1.png')\n",
    "\n",
    "dict = []\n",
    "\n",
    "answer =[]\n",
    "\n",
    "X, y = load_dataset()\n",
    "knn = KNeighborsClassifier(n_neighbors=5)\n",
    "knn.fit(X, y.astype('int'))\n",
    "\n",
    "result= knn.predict(letters)\n",
    "\n",
    "for i in range(len(result)):\n",
    "    dict.append(result[i])\n",
    "\n",
    "str1 =''.join(map(str,dict))\n",
    "\n",
    "str1"
   ]
  },
  {
   "cell_type": "code",
   "execution_count": 28,
   "metadata": {},
   "outputs": [
    {
     "name": "stdout",
     "output_type": "stream",
     "text": [
      "actual labels: ['1175', '1209', '1416', '1656', '1689', '1712', '1740', '1783', '1834', '1883', '1930', '1934', '1940', '2204', '2249', '2329', '2555', '2614', '2643', '2745', '2810', '3022', '3026', '3221', '3274', '3284', '3356', '3451', '3575', '3642', '3901', '4006', '4073', '4185', '4232', '4532', '4600', '4743', '4897', '4926', '5108', '5168', '5216', '5266', '5416', '5655', '6030', '6192', '6202', '6488', '6613', '6888', '6929', '7090', '7104', '7125', '7145', '7238', '7394', '7793', '7838', '7872', '7997', '8146', '8200', '8487', '8544', '8630', '8838', '8847', '8902', '9141', '9262', '9444', '9468', '9478', '9511', '9667', '9720', '9820', '9911', '9954', '9964', '9969', '9977']\n",
      "-----------------------------------------------------------------------------------------\n",
      "predicted labels: ['1175', '1209', '1416', '1656', '1689', '1712', '1740', '1783', '1834', '1883', '1930', '1934', '1840', '2204', '2249', '2329', '2555', '2614', '2643', '2745', '2810', '3022', '3026', '3221', '3274', '3284', '3356', '3451', '3575', '3642', '3901', '4006', '4073', '4185', '4232', '4532', '4600', '4743', '4897', '4926', '5108', '5168', '5216', '5266', '5416', '5655', '6030', '6192', '6202', '6488', '6613', '6888', '6929', '7090', '7104', '7125', '7145', '7238', '7394', '7793', '7838', '7872', '7997', '8146', '8200', '8487', '8544', '8630', '8838', '8847', '8902', '9141', '9262', '9444', '9468', '9478', '9511', '9667', '9720', '9820', '9911', '9954', '9964', '9969', '9977']\n"
     ]
    }
   ],
   "source": [
    "import cv2\n",
    "from PIL import Image\n",
    "import os\n",
    "\n",
    "results=[]\n",
    "actual =[]\n",
    "\n",
    "dict = []\n",
    "\n",
    "answer =[]\n",
    "\n",
    "X, y = load_dataset()\n",
    "knn = KNeighborsClassifier(n_neighbors=5)\n",
    "knn.fit(X, y.astype('int'))\n",
    "\n",
    "for filename in os.walk(\"./tests/\"):\n",
    "    for flname in filename[-1]:\n",
    "        \n",
    "        dict = []\n",
    "        \n",
    "        str1=''\n",
    "        \n",
    "        img_path = \"./tests/\"+ flname\n",
    "        \n",
    "        im = split_letters(img_path)\n",
    "        \n",
    "        result= knn.predict(im)\n",
    "\n",
    "        for i in range(len(result)):\n",
    "            dict.append(result[i])\n",
    "\n",
    "        str1 =''.join(map(str,dict)) \n",
    "        \n",
    "        results.append(str1)\n",
    "        \n",
    "        actual.append(flname.replace(\".png\", \"\"))\n",
    "        \n",
    "print(\"actual labels:\",actual)\n",
    "\n",
    "\n",
    "print(\"-----------------------------------------------------------------------------------------\")\n",
    "\n",
    "\n",
    "print(\"predicted labels:\",results)\n"
   ]
  },
  {
   "cell_type": "code",
   "execution_count": 29,
   "metadata": {},
   "outputs": [
    {
     "name": "stdout",
     "output_type": "stream",
     "text": [
      "0.9882352941176471\n"
     ]
    }
   ],
   "source": [
    "count = 0\n",
    "for item in range(len(results)):\n",
    "    if actual[item].lower()==results[item].lower():\n",
    "        count=count+1\n",
    "        \n",
    "print(count/len(results))"
   ]
  }
 ],
 "metadata": {
  "kernelspec": {
   "display_name": "Python 3",
   "language": "python",
   "name": "python3"
  },
  "language_info": {
   "codemirror_mode": {
    "name": "ipython",
    "version": 3
   },
   "file_extension": ".py",
   "mimetype": "text/x-python",
   "name": "python",
   "nbconvert_exporter": "python",
   "pygments_lexer": "ipython3",
   "version": "3.7.3"
  }
 },
 "nbformat": 4,
 "nbformat_minor": 2
}
