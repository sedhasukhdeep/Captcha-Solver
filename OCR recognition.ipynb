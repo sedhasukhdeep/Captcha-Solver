{
 "cells": [
  {
   "cell_type": "markdown",
   "metadata": {},
   "source": [
    "### OCR "
   ]
  },
  {
   "cell_type": "code",
   "execution_count": 97,
   "metadata": {},
   "outputs": [],
   "source": [
    "from PIL import Image\n",
    "import pytesseract\n",
    "import sys\n",
    "\n",
    "def recognize_captcha(img_path):\n",
    "    im = Image.open(img_path).convert('L')\n",
    "    num = pytesseract.image_to_string(img_path, config='--psm 10')\n",
    "    return num"
   ]
  },
  {
   "cell_type": "code",
   "execution_count": 98,
   "metadata": {},
   "outputs": [
    {
     "data": {
      "image/png": "[encoded data removed]",
      "text/plain": [
       "<PIL.PngImagePlugin.PngImageFile image mode=P size=100x40 at 0x23401F73160>"
      ]
     },
     "execution_count": 98,
     "metadata": {},
     "output_type": "execute_result"
    }
   ],
   "source": [
    "Image.open(\"2abnp.png\")"
   ]
  },
  {
   "cell_type": "code",
   "execution_count": 99,
   "metadata": {},
   "outputs": [
    {
     "data": {
      "text/plain": [
       "'ZafdSiyR'"
      ]
     },
     "execution_count": 99,
     "metadata": {},
     "output_type": "execute_result"
    }
   ],
   "source": [
    "recognize_captcha(\"2abnp.png\")"
   ]
  },
  {
   "cell_type": "markdown",
   "metadata": {},
   "source": [
    "OCR is no good for any kind of noisy image, predictions are way off the charts"
   ]
  },
  {
   "cell_type": "code",
   "execution_count": 45,
   "metadata": {},
   "outputs": [
    {
     "data": {
      "image/png": "[encoded data removed]",
      "text/plain": [
       "<PIL.JpegImagePlugin.JpegImageFile image mode=RGB size=60x20 at 0x23401FB47F0>"
      ]
     },
     "execution_count": 45,
     "metadata": {},
     "output_type": "execute_result"
    }
   ],
   "source": [
    "Image.open(\"test2.jpg\")"
   ]
  },
  {
   "cell_type": "code",
   "execution_count": 154,
   "metadata": {},
   "outputs": [
    {
     "data": {
      "text/plain": [
       "'3558'"
      ]
     },
     "execution_count": 154,
     "metadata": {},
     "output_type": "execute_result"
    }
   ],
   "source": [
    "recognize_captcha_threshold(\"test2.jpg\")"
   ]
  },
  {
   "cell_type": "code",
   "execution_count": 152,
   "metadata": {},
   "outputs": [
    {
     "data": {
      "image/png": "[encoded data removed]",
      "text/plain": [
       "<PIL.PngImagePlugin.PngImageFile image mode=RGB size=72x24 at 0x23407A3D828>"
      ]
     },
     "execution_count": 152,
     "metadata": {},
     "output_type": "execute_result"
    }
   ],
   "source": [
    "Image.open(\"2A2X.png\")"
   ]
  },
  {
   "cell_type": "code",
   "execution_count": 155,
   "metadata": {},
   "outputs": [
    {
     "data": {
      "text/plain": [
       "'2A2X'"
      ]
     },
     "execution_count": 155,
     "metadata": {},
     "output_type": "execute_result"
    }
   ],
   "source": [
    "recognize_captcha_threshold(\"2A2X.png\")"
   ]
  },
  {
   "cell_type": "code",
   "execution_count": 162,
   "metadata": {},
   "outputs": [],
   "source": [
    "from PIL import Image\n",
    "import pytesseract\n",
    "import sys\n",
    "from skimage.filters import *\n",
    "\n",
    "def recognize_captcha_threshold(img_path):\n",
    "    image = cv2.imread(img_path,0)\n",
    "#     kernel = np.ones((2,2),np.uint8)\n",
    "#     imgage = cv2.erode(image,kernel,iterations = 1)\n",
    "#     image = cv2.dilate(image,kernel,iterations = 1)\n",
    "    imgNew=threshold_local(image, block_size=3, method='gaussian', offset=0, mode='reflect', param=0.2, cval=0)\n",
    "    num = pytesseract.image_to_string(imgNew, config='--psm 10')\n",
    "    return num\n",
    "\n"
   ]
  },
  {
   "cell_type": "code",
   "execution_count": 158,
   "metadata": {},
   "outputs": [
    {
     "data": {
      "text/plain": [
       "'Bef'"
      ]
     },
     "execution_count": 158,
     "metadata": {},
     "output_type": "execute_result"
    }
   ],
   "source": [
    "recognize_captcha_threshold(\"2abnp.png\")\n"
   ]
  },
  {
   "cell_type": "code",
   "execution_count": 165,
   "metadata": {},
   "outputs": [],
   "source": [
    "import cv2\n",
    "from PIL import Image\n",
    "import os\n",
    "\n",
    "results=[]\n",
    "actual =[]\n",
    "\n",
    "for filename in os.walk(\"./class1/\"):\n",
    "    for flname in filename[-1]:\n",
    "        \n",
    "        img_path = \"./class1/\"+ flname\n",
    "        \n",
    "       \n",
    "        im = recognize_captcha_threshold(img_path)\n",
    "        \n",
    "        results.append(im)\n",
    "        \n",
    "        actual.append(flname.replace(\".png\", \"\"))\n",
    "        \n",
    "# print(\"actual labels:\",actual)\n",
    "\n",
    "\n",
    "# print(\"-----------------------------------------------------------------------------------------\")\n",
    "\n",
    "\n",
    "# print(\"predicted labels:\",results)\n"
   ]
  },
  {
   "cell_type": "code",
   "execution_count": 159,
   "metadata": {},
   "outputs": [
    {
     "data": {
      "text/html": [
       "<div>\n",
       "<style scoped>\n",
       "    .dataframe tbody tr th:only-of-type {\n",
       "        vertical-align: middle;\n",
       "    }\n",
       "\n",
       "    .dataframe tbody tr th {\n",
       "        vertical-align: top;\n",
       "    }\n",
       "\n",
       "    .dataframe thead th {\n",
       "        text-align: right;\n",
       "    }\n",
       "</style>\n",
       "<table border=\"1\" class=\"dataframe\">\n",
       "  <thead>\n",
       "    <tr style=\"text-align: right;\">\n",
       "      <th></th>\n",
       "      <th>actual labels</th>\n",
       "      <th>predicted</th>\n",
       "    </tr>\n",
       "  </thead>\n",
       "  <tbody>\n",
       "    <tr>\n",
       "      <th>0</th>\n",
       "      <td>2A2X</td>\n",
       "      <td>2A2X</td>\n",
       "    </tr>\n",
       "    <tr>\n",
       "      <th>1</th>\n",
       "      <td>2A5R</td>\n",
       "      <td>2A5R</td>\n",
       "    </tr>\n",
       "    <tr>\n",
       "      <th>3</th>\n",
       "      <td>2A98</td>\n",
       "      <td>2A98</td>\n",
       "    </tr>\n",
       "    <tr>\n",
       "      <th>6</th>\n",
       "      <td>2AEF</td>\n",
       "      <td>2AEF</td>\n",
       "    </tr>\n",
       "    <tr>\n",
       "      <th>8</th>\n",
       "      <td>2AQ7</td>\n",
       "      <td>2AQ7</td>\n",
       "    </tr>\n",
       "    <tr>\n",
       "      <th>10</th>\n",
       "      <td>2B67</td>\n",
       "      <td>2B67</td>\n",
       "    </tr>\n",
       "    <tr>\n",
       "      <th>12</th>\n",
       "      <td>2BK3</td>\n",
       "      <td>2BK3</td>\n",
       "    </tr>\n",
       "    <tr>\n",
       "      <th>14</th>\n",
       "      <td>2BLG</td>\n",
       "      <td>2BLG</td>\n",
       "    </tr>\n",
       "    <tr>\n",
       "      <th>15</th>\n",
       "      <td>2BN9</td>\n",
       "      <td>2BN9</td>\n",
       "    </tr>\n",
       "    <tr>\n",
       "      <th>18</th>\n",
       "      <td>2BVF</td>\n",
       "      <td>2BVF</td>\n",
       "    </tr>\n",
       "    <tr>\n",
       "      <th>19</th>\n",
       "      <td>2BVK</td>\n",
       "      <td>2BVK</td>\n",
       "    </tr>\n",
       "    <tr>\n",
       "      <th>21</th>\n",
       "      <td>2CQ4</td>\n",
       "      <td>2CQ4</td>\n",
       "    </tr>\n",
       "    <tr>\n",
       "      <th>24</th>\n",
       "      <td>2CXM</td>\n",
       "      <td>2CXM</td>\n",
       "    </tr>\n",
       "    <tr>\n",
       "      <th>26</th>\n",
       "      <td>2D74</td>\n",
       "      <td>2D74</td>\n",
       "    </tr>\n",
       "    <tr>\n",
       "      <th>27</th>\n",
       "      <td>2D7M</td>\n",
       "      <td>2D7M</td>\n",
       "    </tr>\n",
       "    <tr>\n",
       "      <th>31</th>\n",
       "      <td>2DLB</td>\n",
       "      <td>2DLB</td>\n",
       "    </tr>\n",
       "    <tr>\n",
       "      <th>32</th>\n",
       "      <td>2DLM</td>\n",
       "      <td>2DLM</td>\n",
       "    </tr>\n",
       "    <tr>\n",
       "      <th>34</th>\n",
       "      <td>2DP7</td>\n",
       "      <td>2DP7</td>\n",
       "    </tr>\n",
       "    <tr>\n",
       "      <th>36</th>\n",
       "      <td>2DTC</td>\n",
       "      <td>2DTC</td>\n",
       "    </tr>\n",
       "    <tr>\n",
       "      <th>37</th>\n",
       "      <td>2DV3</td>\n",
       "      <td>2DV3</td>\n",
       "    </tr>\n",
       "    <tr>\n",
       "      <th>38</th>\n",
       "      <td>2DVL</td>\n",
       "      <td>2DVL</td>\n",
       "    </tr>\n",
       "    <tr>\n",
       "      <th>39</th>\n",
       "      <td>2DVT</td>\n",
       "      <td>2DVT</td>\n",
       "    </tr>\n",
       "    <tr>\n",
       "      <th>40</th>\n",
       "      <td>2DXK</td>\n",
       "      <td>2DXK</td>\n",
       "    </tr>\n",
       "    <tr>\n",
       "      <th>43</th>\n",
       "      <td>2E7F</td>\n",
       "      <td>2E7F</td>\n",
       "    </tr>\n",
       "    <tr>\n",
       "      <th>45</th>\n",
       "      <td>2E92</td>\n",
       "      <td>2E92</td>\n",
       "    </tr>\n",
       "    <tr>\n",
       "      <th>49</th>\n",
       "      <td>2EXL</td>\n",
       "      <td>2EXL</td>\n",
       "    </tr>\n",
       "    <tr>\n",
       "      <th>52</th>\n",
       "      <td>2F7H</td>\n",
       "      <td>2F7H</td>\n",
       "    </tr>\n",
       "    <tr>\n",
       "      <th>53</th>\n",
       "      <td>2FCQ</td>\n",
       "      <td>2FCQ</td>\n",
       "    </tr>\n",
       "    <tr>\n",
       "      <th>54</th>\n",
       "      <td>2FEW</td>\n",
       "      <td>2FEW</td>\n",
       "    </tr>\n",
       "    <tr>\n",
       "      <th>61</th>\n",
       "      <td>2GF4</td>\n",
       "      <td>2GF4</td>\n",
       "    </tr>\n",
       "    <tr>\n",
       "      <th>62</th>\n",
       "      <td>2GHE</td>\n",
       "      <td>2GHE</td>\n",
       "    </tr>\n",
       "    <tr>\n",
       "      <th>66</th>\n",
       "      <td>2H2Z</td>\n",
       "      <td>2H2Z</td>\n",
       "    </tr>\n",
       "    <tr>\n",
       "      <th>67</th>\n",
       "      <td>2H4H</td>\n",
       "      <td>2H4H</td>\n",
       "    </tr>\n",
       "    <tr>\n",
       "      <th>68</th>\n",
       "      <td>2HAX</td>\n",
       "      <td>2HAX</td>\n",
       "    </tr>\n",
       "    <tr>\n",
       "      <th>69</th>\n",
       "      <td>2HDR</td>\n",
       "      <td>2HDR</td>\n",
       "    </tr>\n",
       "    <tr>\n",
       "      <th>71</th>\n",
       "      <td>2HKG</td>\n",
       "      <td>2HKG</td>\n",
       "    </tr>\n",
       "    <tr>\n",
       "      <th>73</th>\n",
       "      <td>2HLR</td>\n",
       "      <td>2HLR</td>\n",
       "    </tr>\n",
       "    <tr>\n",
       "      <th>75</th>\n",
       "      <td>2HYQ</td>\n",
       "      <td>2HYQ</td>\n",
       "    </tr>\n",
       "    <tr>\n",
       "      <th>76</th>\n",
       "      <td>2J2T</td>\n",
       "      <td>2J2T</td>\n",
       "    </tr>\n",
       "    <tr>\n",
       "      <th>86</th>\n",
       "      <td>2JPH</td>\n",
       "      <td>2JPH</td>\n",
       "    </tr>\n",
       "    <tr>\n",
       "      <th>91</th>\n",
       "      <td>2K43</td>\n",
       "      <td>2K43</td>\n",
       "    </tr>\n",
       "    <tr>\n",
       "      <th>92</th>\n",
       "      <td>2K8R</td>\n",
       "      <td>2K8R</td>\n",
       "    </tr>\n",
       "    <tr>\n",
       "      <th>93</th>\n",
       "      <td>2KD2</td>\n",
       "      <td>2KD2</td>\n",
       "    </tr>\n",
       "    <tr>\n",
       "      <th>96</th>\n",
       "      <td>2KK3</td>\n",
       "      <td>2KK3</td>\n",
       "    </tr>\n",
       "    <tr>\n",
       "      <th>97</th>\n",
       "      <td>2KKU</td>\n",
       "      <td>2KKU</td>\n",
       "    </tr>\n",
       "    <tr>\n",
       "      <th>98</th>\n",
       "      <td>2KRC</td>\n",
       "      <td>2KRC</td>\n",
       "    </tr>\n",
       "    <tr>\n",
       "      <th>99</th>\n",
       "      <td>2KU3</td>\n",
       "      <td>2KU3</td>\n",
       "    </tr>\n",
       "  </tbody>\n",
       "</table>\n",
       "</div>"
      ],
      "text/plain": [
       "   actual labels predicted\n",
       "0           2A2X      2A2X\n",
       "1           2A5R      2A5R\n",
       "3           2A98      2A98\n",
       "6           2AEF      2AEF\n",
       "8           2AQ7      2AQ7\n",
       "10          2B67      2B67\n",
       "12          2BK3      2BK3\n",
       "14          2BLG      2BLG\n",
       "15          2BN9      2BN9\n",
       "18          2BVF      2BVF\n",
       "19          2BVK      2BVK\n",
       "21          2CQ4      2CQ4\n",
       "24          2CXM      2CXM\n",
       "26          2D74      2D74\n",
       "27          2D7M      2D7M\n",
       "31          2DLB      2DLB\n",
       "32          2DLM      2DLM\n",
       "34          2DP7      2DP7\n",
       "36          2DTC      2DTC\n",
       "37          2DV3      2DV3\n",
       "38          2DVL      2DVL\n",
       "39          2DVT      2DVT\n",
       "40          2DXK      2DXK\n",
       "43          2E7F      2E7F\n",
       "45          2E92      2E92\n",
       "49          2EXL      2EXL\n",
       "52          2F7H      2F7H\n",
       "53          2FCQ      2FCQ\n",
       "54          2FEW      2FEW\n",
       "61          2GF4      2GF4\n",
       "62          2GHE      2GHE\n",
       "66          2H2Z      2H2Z\n",
       "67          2H4H      2H4H\n",
       "68          2HAX      2HAX\n",
       "69          2HDR      2HDR\n",
       "71          2HKG      2HKG\n",
       "73          2HLR      2HLR\n",
       "75          2HYQ      2HYQ\n",
       "76          2J2T      2J2T\n",
       "86          2JPH      2JPH\n",
       "91          2K43      2K43\n",
       "92          2K8R      2K8R\n",
       "93          2KD2      2KD2\n",
       "96          2KK3      2KK3\n",
       "97          2KKU      2KKU\n",
       "98          2KRC      2KRC\n",
       "99          2KU3      2KU3"
      ]
     },
     "execution_count": 159,
     "metadata": {},
     "output_type": "execute_result"
    }
   ],
   "source": [
    "import pandas as pd\n",
    "df2 = pd.DataFrame({'actual labels': actual,\n",
    "                   'predicted':results})\n",
    "\n",
    "df2[ df2['actual labels'] == df2['predicted']]"
   ]
  },
  {
   "cell_type": "code",
   "execution_count": 166,
   "metadata": {},
   "outputs": [
    {
     "name": "stdout",
     "output_type": "stream",
     "text": [
      "0.49\n"
     ]
    }
   ],
   "source": [
    "count = 0\n",
    "for item in range(len(results)):\n",
    "    if actual[item].lower()==results[item].lower():\n",
    "        count=count+1\n",
    "        \n",
    "print(count/len(results))"
   ]
  }
 ],
 "metadata": {
  "kernelspec": {
   "display_name": "Python 3",
   "language": "python",
   "name": "python3"
  },
  "language_info": {
   "codemirror_mode": {
    "name": "ipython",
    "version": 3
   },
   "file_extension": ".py",
   "mimetype": "text/x-python",
   "name": "python",
   "nbconvert_exporter": "python",
   "pygments_lexer": "ipython3",
   "version": "3.7.3"
  }
 },
 "nbformat": 4,
 "nbformat_minor": 2
}
